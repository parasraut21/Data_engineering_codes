{
  "nbformat": 4,
  "nbformat_minor": 0,
  "metadata": {
    "colab": {
      "provenance": []
    },
    "kernelspec": {
      "name": "python3",
      "display_name": "Python 3"
    },
    "language_info": {
      "name": "python"
    }
  },
  "cells": [
    {
      "cell_type": "code",
      "execution_count": 13,
      "metadata": {
        "colab": {
          "base_uri": "https://localhost:8080/"
        },
        "id": "-q11iJXhPklq",
        "outputId": "a23347bf-c7a1-419a-e81f-a8a7417d8975"
      },
      "outputs": [
        {
          "output_type": "stream",
          "name": "stdout",
          "text": [
            "Original Dataset:\n",
            "      Name   Age  TestScore\n",
            "0    Alice  20.0         85\n",
            "1      Bob  22.0         90\n",
            "2  Charlie   NaN         88\n",
            "3    David  23.0         92\n",
            "4      NaN  25.0        120\n",
            "5      Bob  22.0         90\n"
          ]
        }
      ],
      "source": [
        "import pandas as pd\n",
        "import numpy as np\n",
        "\n",
        "# Creating a hypothetical dataset with null and noisy data\n",
        "data = {\n",
        "    'Name': ['Alice', 'Bob', 'Charlie', 'David', np.nan, 'Bob'],\n",
        "    'Age': [20, 22, np.nan, 23, 25, 22,],\n",
        "    'TestScore': [85, 90, 88, 92, 120, 90]\n",
        "}\n",
        "\n",
        "df = pd.DataFrame(data)\n",
        "print(\"Original Dataset:\")\n",
        "print(df)\n"
      ]
    },
    {
      "cell_type": "code",
      "source": [
        "# Step 1: Find Null Values\n",
        "null_values = df.isnull()\n",
        "print(\"\\nNull Values:\")\n",
        "print(null_values)\n"
      ],
      "metadata": {
        "colab": {
          "base_uri": "https://localhost:8080/"
        },
        "id": "_d8oyvtcP8mE",
        "outputId": "d56541c3-e871-4c82-fcb4-1cbc4b285840"
      },
      "execution_count": 4,
      "outputs": [
        {
          "output_type": "stream",
          "name": "stdout",
          "text": [
            "\n",
            "Null Values:\n",
            "    Name    Age  TestScore\n",
            "0  False  False      False\n",
            "1  False  False      False\n",
            "2  False   True      False\n",
            "3  False  False      False\n",
            "4   True  False      False\n",
            "5  False  False      False\n"
          ]
        }
      ]
    },
    {
      "cell_type": "code",
      "source": [
        "# Step 2: Remove Rows with Null Values\n",
        "df_cleaned = df.dropna()\n",
        "print(\"\\nDataset after removing rows with null values:\")\n",
        "print(df_cleaned)"
      ],
      "metadata": {
        "colab": {
          "base_uri": "https://localhost:8080/"
        },
        "id": "ApkDQ0IEQJ7s",
        "outputId": "badf024f-66e2-4ccd-f29c-5c294fc2ded0"
      },
      "execution_count": 5,
      "outputs": [
        {
          "output_type": "stream",
          "name": "stdout",
          "text": [
            "\n",
            "Dataset after removing rows with null values:\n",
            "    Name   Age  TestScore\n",
            "0  Alice  20.0         85\n",
            "1    Bob  22.0         90\n",
            "3  David  23.0         92\n",
            "5    Bob  22.0         90\n"
          ]
        }
      ]
    },
    {
      "cell_type": "code",
      "source": [
        "# Step 3: Identify and Handle Noisy Data (e.g., outliers in 'TestScore')\n",
        "noisy_data_indices = df_cleaned[df_cleaned['TestScore'] > 100].index\n",
        "df_cleaned.loc[noisy_data_indices, 'TestScore'] = np.nan\n",
        "print(\"\\nDataset after handling noisy data:\")\n",
        "print(df_cleaned)"
      ],
      "metadata": {
        "colab": {
          "base_uri": "https://localhost:8080/"
        },
        "id": "DSDWeD5TQRLM",
        "outputId": "6303a76d-1767-4350-94e5-c4c25dd44356"
      },
      "execution_count": 6,
      "outputs": [
        {
          "output_type": "stream",
          "name": "stdout",
          "text": [
            "\n",
            "Dataset after handling noisy data:\n",
            "    Name   Age  TestScore\n",
            "0  Alice  20.0       85.0\n",
            "1    Bob  22.0       90.0\n",
            "3  David  23.0       92.0\n",
            "5    Bob  22.0       90.0\n"
          ]
        }
      ]
    },
    {
      "cell_type": "code",
      "source": [
        "# Step 4: Impute Null Values (fill with mean, median, etc.)\n",
        "df_cleaned['Age'].fillna(df_cleaned['Age'].mean(), inplace=True)\n",
        "print(\"\\nDataset after imputing null values in 'Age' column:\")\n",
        "print(df_cleaned)\n"
      ],
      "metadata": {
        "colab": {
          "base_uri": "https://localhost:8080/"
        },
        "id": "aR8eKjLQQZ60",
        "outputId": "8ae11931-f994-4be5-aa06-9e3a7301dff3"
      },
      "execution_count": 7,
      "outputs": [
        {
          "output_type": "stream",
          "name": "stdout",
          "text": [
            "\n",
            "Dataset after imputing null values in 'Age' column:\n",
            "    Name   Age  TestScore\n",
            "0  Alice  20.0       85.0\n",
            "1    Bob  22.0       90.0\n",
            "3  David  23.0       92.0\n",
            "5    Bob  22.0       90.0\n"
          ]
        },
        {
          "output_type": "stream",
          "name": "stderr",
          "text": [
            "<ipython-input-7-3e75db85f9a4>:2: SettingWithCopyWarning: \n",
            "A value is trying to be set on a copy of a slice from a DataFrame\n",
            "\n",
            "See the caveats in the documentation: https://pandas.pydata.org/pandas-docs/stable/user_guide/indexing.html#returning-a-view-versus-a-copy\n",
            "  df_cleaned['Age'].fillna(df_cleaned['Age'].mean(), inplace=True)\n"
          ]
        }
      ]
    },
    {
      "cell_type": "code",
      "source": [
        "\n",
        "# Step 4: Impute Null Values using Mean\n",
        "mean_age = df_cleaned['Age'].mean()\n",
        "df_cleaned['Age'].fillna(mean_age, inplace=True)\n",
        "\n",
        "print(\"\\nDataset after imputing null values in 'Age' column using mean:\")\n",
        "print(df_cleaned)\n",
        "\n",
        "\n",
        "\n",
        "\n"
      ],
      "metadata": {
        "colab": {
          "base_uri": "https://localhost:8080/"
        },
        "id": "bT5uQ8sZP6ZV",
        "outputId": "41e4d23d-48b4-45e1-f3d6-394915cc11f5"
      },
      "execution_count": 14,
      "outputs": [
        {
          "output_type": "stream",
          "name": "stdout",
          "text": [
            "\n",
            "Dataset after imputing null values in 'Age' column using mean:\n",
            "    Name   Age  TestScore\n",
            "0  Alice  20.0       85.0\n",
            "1    Bob  22.0       90.0\n",
            "3  David  23.0       92.0\n",
            "5    Bob  22.0       90.0\n"
          ]
        }
      ]
    },
    {
      "cell_type": "code",
      "source": [
        "from sklearn.impute import SimpleImputer\n",
        "\n",
        "# Assuming df_cleaned is your DataFrame after handling noisy data\n",
        "# Creating a SimpleImputer instance with strategy='median'\n",
        "imputer = SimpleImputer(strategy='median')\n",
        "\n",
        "# Fitting the imputer on the 'Age' column\n",
        "imputer.fit(df_cleaned[['Age']])\n",
        "\n",
        "# Transforming and replacing null values with the median\n",
        "df_cleaned['Age'] = imputer.transform(df_cleaned[['Age']])\n",
        "\n",
        "print(\"\\nDataset after imputing null values in 'Age' column using SimpleImputer:\")\n",
        "print(df_cleaned)\n"
      ],
      "metadata": {
        "colab": {
          "base_uri": "https://localhost:8080/"
        },
        "id": "oGR02dPpVOtd",
        "outputId": "d829a25f-64a3-4093-9fce-2791d4389a05"
      },
      "execution_count": 15,
      "outputs": [
        {
          "output_type": "stream",
          "name": "stdout",
          "text": [
            "\n",
            "Dataset after imputing null values in 'Age' column using SimpleImputer:\n",
            "    Name   Age  TestScore\n",
            "0  Alice  20.0       85.0\n",
            "1    Bob  22.0       90.0\n",
            "3  David  23.0       92.0\n",
            "5    Bob  22.0       90.0\n"
          ]
        }
      ]
    }
  ]
}